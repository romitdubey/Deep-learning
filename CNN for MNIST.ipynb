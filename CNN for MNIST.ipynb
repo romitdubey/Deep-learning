{
 "cells": [
  {
   "cell_type": "code",
   "execution_count": 1,
   "id": "c17035cd",
   "metadata": {},
   "outputs": [
    {
     "name": "stderr",
     "output_type": "stream",
     "text": [
      "2023-06-13 23:24:35.946533: I tensorflow/tsl/cuda/cudart_stub.cc:28] Could not find cuda drivers on your machine, GPU will not be used.\n",
      "2023-06-13 23:24:38.933513: I tensorflow/tsl/cuda/cudart_stub.cc:28] Could not find cuda drivers on your machine, GPU will not be used.\n",
      "2023-06-13 23:24:38.994456: I tensorflow/core/platform/cpu_feature_guard.cc:182] This TensorFlow binary is optimized to use available CPU instructions in performance-critical operations.\n",
      "To enable the following instructions: AVX2 FMA, in other operations, rebuild TensorFlow with the appropriate compiler flags.\n",
      "2023-06-13 23:24:49.185594: W tensorflow/compiler/tf2tensorrt/utils/py_utils.cc:38] TF-TRT Warning: Could not find TensorRT\n"
     ]
    }
   ],
   "source": [
    "import keras\n",
    "from keras.datasets import mnist\n",
    "from keras.models import Sequential\n",
    "from keras.layers import Dense, Dropout, Flatten\n",
    "from keras.layers import Conv2D, MaxPooling2D\n",
    "from keras import backend as K"
   ]
  },
  {
   "cell_type": "markdown",
   "id": "fef30f45",
   "metadata": {},
   "source": [
    "# Splitting the MNIST dataset into Train and Test"
   ]
  },
  {
   "cell_type": "code",
   "execution_count": 2,
   "id": "2954bf2f",
   "metadata": {},
   "outputs": [],
   "source": [
    "(x_train, y_train), (x_test, y_test) = mnist.load_data()"
   ]
  },
  {
   "cell_type": "markdown",
   "id": "a05977f5",
   "metadata": {},
   "source": [
    "# Preprocessing the input data"
   ]
  },
  {
   "cell_type": "code",
   "execution_count": 3,
   "id": "e9b437b6",
   "metadata": {},
   "outputs": [],
   "source": [
    "num_of_trainImgs = x_train.shape[0] #60000 here\n",
    "num_of_testImgs = x_test.shape[0] #10000 here\n",
    "img_width = 28\n",
    "img_height = 28\n",
    " \n",
    "x_train = x_train.reshape(x_train.shape[0], img_height, img_width, 1)\n",
    "x_test = x_test.reshape(x_test.shape[0], img_height, img_width, 1)\n",
    "input_shape = (img_height, img_width, 1)\n",
    " \n",
    "x_train = x_train.astype('float32')\n",
    "x_test = x_test.astype('float32')\n",
    "x_train /= 255\n",
    "x_test /= 255"
   ]
  },
  {
   "cell_type": "markdown",
   "id": "d1e165d8",
   "metadata": {},
   "source": [
    "# Converting the class vectors to binary class"
   ]
  },
  {
   "cell_type": "code",
   "execution_count": 4,
   "id": "0dc9a710",
   "metadata": {},
   "outputs": [],
   "source": [
    "num_classes = 10\n",
    "y_train = keras.utils.to_categorical(y_train, num_classes)\n",
    "y_test = keras.utils.to_categorical(y_test, num_classes)"
   ]
  },
  {
   "cell_type": "markdown",
   "id": "decd4c89",
   "metadata": {},
   "source": [
    "# Defining the model architecture"
   ]
  },
  {
   "cell_type": "code",
   "execution_count": 5,
   "id": "9c000d24",
   "metadata": {},
   "outputs": [],
   "source": [
    "model = Sequential()\n",
    "model.add(Conv2D(32, kernel_size=(3, 3),\n",
    "                 activation='relu',\n",
    "                 input_shape=input_shape))\n",
    "model.add(Conv2D(64, (3, 3), activation='relu'))\n",
    "model.add(MaxPooling2D(pool_size=(2, 2)))\n",
    "model.add(Dropout(0.25))\n",
    "model.add(Flatten())\n",
    "model.add(Dense(128, activation='relu'))\n",
    "model.add(Dropout(0.5))\n",
    "model.add(Dense(num_classes, activation='softmax'))\n"
   ]
  },
  {
   "cell_type": "markdown",
   "id": "dbe5112d",
   "metadata": {},
   "source": [
    "# Compiling the model"
   ]
  },
  {
   "cell_type": "code",
   "execution_count": 32,
   "id": "3646658b",
   "metadata": {},
   "outputs": [],
   "source": [
    "model.compile(loss=keras.losses.categorical_crossentropy,\n",
    "              optimizer=keras.optimizers.Adadelta(),\n",
    "              metrics=['accuracy'])"
   ]
  },
  {
   "cell_type": "markdown",
   "id": "9e4b05bb",
   "metadata": {},
   "source": [
    "# Fitting the model on training data"
   ]
  },
  {
   "cell_type": "code",
   "execution_count": 33,
   "id": "9376289c",
   "metadata": {
    "scrolled": true
   },
   "outputs": [
    {
     "name": "stdout",
     "output_type": "stream",
     "text": [
      "Epoch 1/12\n",
      "469/469 [==============================] - 65s 130ms/step - loss: 2.2841 - accuracy: 0.1541 - val_loss: 2.2529 - val_accuracy: 0.3900\n",
      "Epoch 2/12\n",
      "469/469 [==============================] - 65s 139ms/step - loss: 2.2287 - accuracy: 0.2814 - val_loss: 2.1832 - val_accuracy: 0.6420\n",
      "Epoch 3/12\n",
      "469/469 [==============================] - 67s 144ms/step - loss: 2.1542 - accuracy: 0.3954 - val_loss: 2.0844 - val_accuracy: 0.7193\n",
      "Epoch 4/12\n",
      "469/469 [==============================] - 71s 151ms/step - loss: 2.0485 - accuracy: 0.4820 - val_loss: 1.9448 - val_accuracy: 0.7502\n",
      "Epoch 5/12\n",
      "469/469 [==============================] - 72s 153ms/step - loss: 1.9005 - accuracy: 0.5449 - val_loss: 1.7561 - val_accuracy: 0.7688\n",
      "Epoch 6/12\n",
      "469/469 [==============================] - 75s 160ms/step - loss: 1.7166 - accuracy: 0.5881 - val_loss: 1.5286 - val_accuracy: 0.7853\n",
      "Epoch 7/12\n",
      "469/469 [==============================] - 76s 162ms/step - loss: 1.5215 - accuracy: 0.6187 - val_loss: 1.2962 - val_accuracy: 0.8014\n",
      "Epoch 8/12\n",
      "469/469 [==============================] - 76s 162ms/step - loss: 1.3333 - accuracy: 0.6502 - val_loss: 1.0937 - val_accuracy: 0.8144\n",
      "Epoch 9/12\n",
      "469/469 [==============================] - 75s 161ms/step - loss: 1.1863 - accuracy: 0.6744 - val_loss: 0.9371 - val_accuracy: 0.8258\n",
      "Epoch 10/12\n",
      "469/469 [==============================] - 77s 164ms/step - loss: 1.0731 - accuracy: 0.6912 - val_loss: 0.8212 - val_accuracy: 0.8357\n",
      "Epoch 11/12\n",
      "469/469 [==============================] - 75s 159ms/step - loss: 0.9829 - accuracy: 0.7128 - val_loss: 0.7341 - val_accuracy: 0.8432\n",
      "Epoch 12/12\n",
      "469/469 [==============================] - 75s 160ms/step - loss: 0.9136 - accuracy: 0.7297 - val_loss: 0.6684 - val_accuracy: 0.8489\n"
     ]
    },
    {
     "data": {
      "text/plain": [
       "<keras.callbacks.History at 0x7fa80007d130>"
      ]
     },
     "execution_count": 33,
     "metadata": {},
     "output_type": "execute_result"
    }
   ],
   "source": [
    "model.fit(x_train, y_train,\n",
    "          batch_size=228,\n",
    "          epochs=12,\n",
    "          verbose=1,\n",
    "          validation_data=(x_test, y_test))"
   ]
  },
  {
   "cell_type": "markdown",
   "id": "20f5fea9",
   "metadata": {},
   "source": [
    "#  Evaluating the model on test data"
   ]
  },
  {
   "cell_type": "code",
   "execution_count": 34,
   "id": "e6251d22",
   "metadata": {},
   "outputs": [
    {
     "name": "stdout",
     "output_type": "stream",
     "text": [
      "Test loss: 0.6684362888336182\n",
      "Test accuracy: 0.8489000201225281\n"
     ]
    }
   ],
   "source": [
    "score = model.evaluate(x_test, y_test, verbose=0)\n",
    "print('Test loss:', score[0])\n",
    "print('Test accuracy:', score[1])"
   ]
  },
  {
   "cell_type": "markdown",
   "id": "05d485d5",
   "metadata": {},
   "source": [
    "# Saving the Model"
   ]
  },
  {
   "cell_type": "code",
   "execution_count": 9,
   "id": "02ac0cbd",
   "metadata": {},
   "outputs": [],
   "source": [
    "model.save('trained_model.h5')"
   ]
  },
  {
   "cell_type": "code",
   "execution_count": null,
   "id": "a309a2da",
   "metadata": {},
   "outputs": [],
   "source": []
  },
  {
   "cell_type": "code",
   "execution_count": null,
   "id": "88790541",
   "metadata": {},
   "outputs": [],
   "source": []
  },
  {
   "cell_type": "code",
   "execution_count": null,
   "id": "4542a625",
   "metadata": {},
   "outputs": [],
   "source": []
  }
 ],
 "metadata": {
  "kernelspec": {
   "display_name": "Python 3 (ipykernel)",
   "language": "python",
   "name": "python3"
  },
  "language_info": {
   "codemirror_mode": {
    "name": "ipython",
    "version": 3
   },
   "file_extension": ".py",
   "mimetype": "text/x-python",
   "name": "python",
   "nbconvert_exporter": "python",
   "pygments_lexer": "ipython3",
   "version": "3.8.10"
  }
 },
 "nbformat": 4,
 "nbformat_minor": 5
}
