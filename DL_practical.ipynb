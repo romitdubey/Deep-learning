{
 "cells": [
  {
   "cell_type": "code",
   "execution_count": 2,
   "id": "ac5a7738-8a91-4ba1-af63-d287f249f49b",
   "metadata": {},
   "outputs": [],
   "source": [
    "import numpy as np\n",
    "import matplotlib.pyplot as plt"
   ]
  },
  {
   "cell_type": "code",
   "execution_count": 3,
   "id": "35d9693c-ab0e-4112-a38e-b1b88293c453",
   "metadata": {},
   "outputs": [],
   "source": [
    "def boolean_fuction(x):\n",
    "    y = []\n",
    "    for i in x:\n",
    "        x1,x2,x3,x4,x5,x6,x7,x8,x9,x10=i\n",
    "        y.append((x1^x2) & (x3 | x4) ^ (x5 & x6) | (x7 ^ x8) & (x9 ^ x10))\n",
    "    return y"
   ]
  },
  {
   "cell_type": "code",
   "execution_count": 4,
   "id": "a9b817aa-6f0b-4d19-93d9-38ce56320133",
   "metadata": {},
   "outputs": [],
   "source": [
    "def sigmoid(x):\n",
    "    return 1/(1+np.exp(-x))\n",
    "def sidmoid_der(x):\n",
    "    s = sigmoid(x)\n",
    "    return s*(1-s)"
   ]
  },
  {
   "cell_type": "code",
   "execution_count": 5,
   "id": "ae36cc0b-8c24-4d8c-9895-bcbaeaa1297c",
   "metadata": {},
   "outputs": [],
   "source": [
    "def tanh(x):\n",
    "    # ex = np.exp(x)\n",
    "    # enx = np.exp(-1)\n",
    "    # return (ex-enx)/(ex+enx)\n",
    "    return np.tanh(x)\n",
    "def tanh_der(x):\n",
    "    return 1-tanh(x)**2"
   ]
  },
  {
   "cell_type": "code",
   "execution_count": 6,
   "id": "1c3bcf1f-44d6-4314-a2fc-893359b681cc",
   "metadata": {},
   "outputs": [],
   "source": [
    "def relu(x):\n",
    "    return np.maximum(0,x)\n",
    "def relu_der(x):\n",
    "    return (x>0).astype(float)"
   ]
  },
  {
   "cell_type": "code",
   "execution_count": 7,
   "id": "d09b8048-ee96-432e-91ae-52eb7d9b96e0",
   "metadata": {},
   "outputs": [],
   "source": [
    "X = np.array([[int(b) for b in format(i,\"010b\")] for i in range(0,2**10)])"
   ]
  },
  {
   "cell_type": "code",
   "execution_count": 8,
   "id": "46162922-a8b3-400e-a8f7-894e05fb8cb0",
   "metadata": {},
   "outputs": [],
   "source": [
    "y = np.array(boolean_fuction(X)).reshape(-1,1)"
   ]
  },
  {
   "cell_type": "code",
   "execution_count": 9,
   "id": "b8c28def-fc96-4cd7-8025-4c2652764ed3",
   "metadata": {},
   "outputs": [
    {
     "data": {
      "text/plain": [
       "((1024, 1), (1024, 10))"
      ]
     },
     "execution_count": 9,
     "metadata": {},
     "output_type": "execute_result"
    }
   ],
   "source": [
    "y.shape, X.shape"
   ]
  },
  {
   "cell_type": "code",
   "execution_count": 10,
   "id": "3f61aeb5-ff24-41bd-9ba0-5ae2b4d87402",
   "metadata": {},
   "outputs": [],
   "source": [
    "def initilizing(x,h1,h2,o):\n",
    "    np.random.seed(42)\n",
    "    W1 = np.random.randn(x,h1) * 0.1\n",
    "    b1 = np.zeros((1,h1))\n",
    "    W2 = np.random.randn(h1,h2) * 0.1\n",
    "    b2 = np.zeros((1,h2))\n",
    "    W3 = np.random.randn(h2,o) * 0.1\n",
    "    b3 = np.zeros((1,o))\n",
    "    return W1, b1, W2, b2, W3, b3\n",
    "# def initialize_parameters(input_size, hidden1, hidden2, output_size):\n",
    "#     np.random.seed(42)\n",
    "#     W1 = np.random.randn(input_size, hidden1) * 0.1\n",
    "#     b1 = np.zeros((1, hidden1))\n",
    "#     W2 = np.random.randn(hidden1, hidden2) * 0.1\n",
    "#     b2 = np.zeros((1, hidden2))\n",
    "#     W3 = np.random.randn(hidden2, output_size) * 0.1\n",
    "#     b3 = np.zeros((1, output_size))\n",
    "#     return W1, b1, W2, b2, W3, b3"
   ]
  },
  {
   "cell_type": "code",
   "execution_count": 11,
   "id": "d7c39563-5dc3-4868-87c4-1a14c304f784",
   "metadata": {},
   "outputs": [],
   "source": [
    "# def forward(x,w1,b1,w2,b2,w3,b3):\n",
    "#     z1 = np.dot(x,w1)+b1\n",
    "#     a1 = relu(z1)\n",
    "\n",
    "#     z2 = np.dot(z1,w2) + b2\n",
    "#     a2 = tanh(z2)\n",
    "\n",
    "#     z3 = np.dot(z2,w3) + b3\n",
    "#     a3 = sigmoid(z3)\n",
    "\n",
    "#     return z1,a1,z2,a2,z3,a3\n",
    "def forward(X, W1, b1, W2, b2, W3, b3):\n",
    "    z1 = np.dot(X, W1) + b1\n",
    "    a1 = relu(z1)\n",
    "    z2 = np.dot(a1, W2) + b2\n",
    "    a2 = tanh(z2)\n",
    "    z3 = np.dot(a2, W3) + b3\n",
    "    a3 = sigmoid(z3)\n",
    "    return z1, a1, z2, a2, z3, a3"
   ]
  },
  {
   "cell_type": "code",
   "execution_count": 12,
   "id": "212f7282-2e61-4f9b-8cdc-760e89febf40",
   "metadata": {},
   "outputs": [],
   "source": [
    "# def backward(X, y, z1, a1, z2, a2, z3, a3, W2, W3):\n",
    "#     m = X.shape[0]\n",
    "#     dz3 = a3 - y\n",
    "#     dW3 = np.dot(a2.T, dz3) / m\n",
    "#     db3 = np.sum(dz3, axis=0, keepdims=True) / m\n",
    "\n",
    "#     dz2 = np.dot(dz3, W3.T) * tanh_der(z2)\n",
    "#     dW2 = np.dot(a1.T, dz2) / m\n",
    "#     db2 = np.sum(dz2, axis=0, keepdims=True) / m\n",
    "\n",
    "#     dz1 = np.dot(dz2, W2.T) * relu_der(z1)\n",
    "#     dW1 = np.dot(X.T, dz1) / m\n",
    "#     db1 = np.sum(dz1, axis=0, keepdims=True) / m\n",
    "\n",
    "#     return dW1, db1, dW2, db2, dW3, db3\n",
    "def backward(X, y, z1, a1, z2, a2, z3, a3, W2, W3):\n",
    "    m = X.shape[0]\n",
    "    dz3 = a3 - y\n",
    "    dW3 = np.dot(a2.T, dz3) / m\n",
    "    db3 = np.sum(dz3, axis=0, keepdims=True) / m\n",
    "    dz2 = np.dot(dz3, W3.T) * tanh_der(z2)\n",
    "    dW2 = np.dot(a1.T, dz2) / m\n",
    "    db2 = np.sum(dz2, axis=0, keepdims=True) / m\n",
    "    dz1 = np.dot(dz2, W2.T) * relu_der(z1)\n",
    "    dW1 = np.dot(X.T, dz1) / m\n",
    "    db1 = np.sum(dz1, axis=0, keepdims=True) / m\n",
    "    return dW1, db1, dW2, db2, dW3, db3"
   ]
  },
  {
   "cell_type": "code",
   "execution_count": 13,
   "id": "80fd857d-b82a-4349-91a2-493f2f7a9739",
   "metadata": {},
   "outputs": [],
   "source": [
    "def train(X, y, epochs=1000, lr=0.1):\n",
    "    W1, b1, W2, b2, W3, b3 = initilizing(10, 16,8, 1)\n",
    "    for epoch in range(epochs):\n",
    "        z1, a1, z2, a2, z3, a3 = forward(X, W1, b1, W2, b2, W3, b3)\n",
    "        \n",
    "        loss = -np.mean(y * np.log(a3 + 1e-8) + (1 - y) * np.log(1 - a3 + 1e-8))\n",
    "\n",
    "        dW1, db1, dW2, db2, dW3, db3 = backward(X, y, z1, a1, z2, a2, z3, a3, W2, W3)\n",
    "\n",
    "        W1 -= lr * dW1\n",
    "        b1 -= lr * db1\n",
    "        W2 -= lr * dW2\n",
    "        b2 -= lr * db2\n",
    "        W3 -= lr * dW3\n",
    "        b3 -= lr * db3\n",
    "\n",
    "        if epoch % 100 == 0:\n",
    "            print(f\"Epoch {epoch}, Loss: {loss:.4f}\")\n",
    "\n",
    "    return W1, b1, W2, b2, W3, b3\n"
   ]
  },
  {
   "cell_type": "code",
   "execution_count": 14,
   "id": "b756dedb-fada-4d83-abdd-34b719e801f2",
   "metadata": {},
   "outputs": [
    {
     "name": "stdout",
     "output_type": "stream",
     "text": [
      "Epoch 0, Loss: 0.6943\n",
      "Epoch 100, Loss: 0.6803\n",
      "Epoch 200, Loss: 0.6731\n",
      "Epoch 300, Loss: 0.6226\n",
      "Epoch 400, Loss: 0.5020\n",
      "Epoch 500, Loss: 0.4021\n",
      "Epoch 600, Loss: 0.2426\n",
      "Epoch 700, Loss: 0.1383\n",
      "Epoch 800, Loss: 0.0802\n",
      "Epoch 900, Loss: 0.0424\n",
      "Final Accuracy: 100.00%\n"
     ]
    }
   ],
   "source": [
    "W1, b1, W2, b2, W3, b3 = train(X, y, epochs=1000, lr=0.5)\n",
    "_, _, _, _, _, predictions = forward(X, W1, b1, W2, b2, W3, b3)\n",
    "predictions_binary = (predictions > 0.5).astype(int)\n",
    "accuracy = np.mean(predictions_binary == y)\n",
    "print(f\"Final Accuracy: {accuracy*100:.2f}%\")"
   ]
  },
  {
   "cell_type": "code",
   "execution_count": 18,
   "id": "75184a1e-2790-4043-b320-8399b375d220",
   "metadata": {},
   "outputs": [],
   "source": [
    "def binary_cross_entropy(y_true, y_pred):\n",
    "    epsilon = 1e-8\n",
    "    return -np.mean(y_true * np.log(y_pred + epsilon) + (1 - y_true) * np.log(1 - y_pred + epsilon))\n"
   ]
  },
  {
   "cell_type": "code",
   "execution_count": 15,
   "id": "0e394041-de9a-4269-b24d-bc151dbb92b7",
   "metadata": {},
   "outputs": [
    {
     "data": {
      "text/plain": [
       "array([3, 1, 0, 2, 4])"
      ]
     },
     "execution_count": 15,
     "metadata": {},
     "output_type": "execute_result"
    }
   ],
   "source": [
    "np.random.permutation(5)"
   ]
  },
  {
   "cell_type": "code",
   "execution_count": 19,
   "id": "9c4c6f7a-6ded-459e-bb1d-181c0d951588",
   "metadata": {},
   "outputs": [],
   "source": [
    "def train_sgd(X, y, epochs=100, lr=0.1):\n",
    "    W1, b1, W2, b2, W3, b3 = initilizing(10, 5,5, 1)\n",
    "    m = X.shape[0]\n",
    "\n",
    "    for epoch in range(epochs):\n",
    "        total_loss = 0\n",
    "        indices = np.random.permutation(m)\n",
    "        X_shuffled = X[indices]\n",
    "        y_shuffled = y[indices]\n",
    "\n",
    "        for i in range(m):\n",
    "            xi = X_shuffled[i].reshape(1, -1)\n",
    "            yi = y_shuffled[i].reshape(1, -1) \n",
    "\n",
    "            z1, a1, z2, a2, z3, a3 = forward(xi, W1, b1, W2, b2, W3, b3)\n",
    "            loss = binary_cross_entropy(yi, a3)\n",
    "            total_loss += loss\n",
    "\n",
    "            dW1, db1, dW2, db2, dW3, db3 = backward(xi, yi, z1, a1, z2, a2, z3, a3, W2, W3)\n",
    "            W1 -= lr * dW1\n",
    "            b1 -= lr * db1\n",
    "            W2 -= lr * dW2\n",
    "            b2 -= lr * db2\n",
    "            W3 -= lr * dW3\n",
    "            b3 -= lr * db3\n",
    "\n",
    "        if epoch % 10 == 0:\n",
    "            print(f\"Epoch {epoch+1}, Loss: {total_loss/m:.4f}\")\n",
    "\n",
    "    return W1, b1, W2, b2, W3, b3\n"
   ]
  },
  {
   "cell_type": "code",
   "execution_count": 22,
   "id": "5b03ae28-c12a-4ea5-a66d-c2c3df60c6de",
   "metadata": {},
   "outputs": [
    {
     "name": "stdout",
     "output_type": "stream",
     "text": [
      "Epoch 1, Loss: 0.6869\n",
      "Epoch 11, Loss: 0.6043\n",
      "Epoch 21, Loss: 0.4804\n",
      "Epoch 31, Loss: 0.4923\n",
      "Epoch 41, Loss: 0.4751\n",
      "Epoch 51, Loss: 0.4899\n",
      "Epoch 61, Loss: 0.4547\n",
      "Epoch 71, Loss: 0.4566\n",
      "Epoch 81, Loss: 0.4704\n",
      "Epoch 91, Loss: 0.4502\n",
      "Epoch 101, Loss: 0.4511\n",
      "Epoch 111, Loss: 0.4805\n",
      "Epoch 121, Loss: 0.4538\n",
      "Epoch 131, Loss: 0.4538\n",
      "Epoch 141, Loss: 0.4606\n",
      "Epoch 151, Loss: 0.4553\n",
      "Epoch 161, Loss: 0.4539\n",
      "Epoch 171, Loss: 0.4753\n",
      "Epoch 181, Loss: 0.4678\n",
      "Epoch 191, Loss: 0.4509\n",
      "Final Accuracy: 83.11%\n"
     ]
    }
   ],
   "source": [
    "W1, b1, W2, b2, W3, b3 = train_sgd(X, y, epochs=200, lr=0.1)\n",
    "_, _, _, _, _, predictions = forward(X, W1, b1, W2, b2, W3, b3)\n",
    "predictions_binary = (predictions > 0.5).astype(int)\n",
    "accuracy = np.mean(predictions_binary == y)\n",
    "print(f\"Final Accuracy: {accuracy*100:.2f}%\")"
   ]
  },
  {
   "cell_type": "code",
   "execution_count": 196,
   "id": "bf06c8d3-1040-4e42-8991-ea733e16fbc4",
   "metadata": {},
   "outputs": [],
   "source": [
    "def adam_update(params, grads, v, s, t, lr=0.01, beta1=0.9, beta2=0.999, epsilon=1e-8):\n",
    "    updated_params = []\n",
    "    for i in range(len(params)):\n",
    "        \n",
    "        v[i] = beta1 * v[i] + (1 - beta1) * grads[i]\n",
    " \n",
    "        s[i] = beta2 * s[i] + (1 - beta2) * (grads[i] ** 2)\n",
    "        \n",
    "        v_corrected = v[i] / (1 - beta1 ** t)\n",
    "        s_corrected = s[i] / (1 - beta2 ** t)\n",
    "\n",
    "        param = params[i] - lr * v_corrected / (np.sqrt(s_corrected) + epsilon)\n",
    "        updated_params.append(param)\n",
    "    return updated_params, v, s"
   ]
  },
  {
   "cell_type": "code",
   "execution_count": 197,
   "id": "90f894e0-b330-448a-9ee0-1aba4aac5a18",
   "metadata": {},
   "outputs": [],
   "source": [
    "def train_adam(X, y, epochs=1000, lr=0.01):\n",
    "    W1, b1, W2, b2, W3, b3 = initialize_parameters(10, 16, 8, 1)\n",
    "    params = [W1, b1, W2, b2, W3, b3]\n",
    "    v = [np.zeros_like(p) for p in params]\n",
    "    s = [np.zeros_like(p) for p in params]\n",
    "\n",
    "    for epoch in range(1, epochs + 1):\n",
    "        z1, a1, z2, a2, z3, a3 = forward(X, W1, b1, W2, b2, W3, b3)\n",
    "        loss = binary_cross_entropy(y, a3)\n",
    "\n",
    "        dW1, db1, dW2, db2, dW3, db3 = backward(X, y, z1, a1, z2, a2, z3, a3, W2, W3)\n",
    "        grads = [dW1, db1, dW2, db2, dW3, db3]\n",
    "\n",
    "        params, v, s = adam_update(params, grads, v, s, epoch, lr)\n",
    "\n",
    "        W1, b1, W2, b2, W3, b3 = params\n",
    "\n",
    "        if epoch % 100 == 0:\n",
    "            print(f\"Epoch {epoch}, Loss: {loss:.5f}\")\n",
    "\n",
    "    return W1, b1, W2, b2, W3, b3"
   ]
  },
  {
   "cell_type": "code",
   "execution_count": 202,
   "id": "845b9f81-5187-4566-8da8-49ce7e221e0e",
   "metadata": {},
   "outputs": [
    {
     "name": "stdout",
     "output_type": "stream",
     "text": [
      "Epoch 100, Loss: 0.23923\n",
      "Epoch 200, Loss: 0.03263\n",
      "Epoch 300, Loss: 0.01000\n",
      "Epoch 400, Loss: 0.00523\n",
      "Epoch 500, Loss: 0.00334\n",
      "Epoch 600, Loss: 0.00237\n",
      "Epoch 700, Loss: 0.00179\n",
      "Epoch 800, Loss: 0.00141\n",
      "Epoch 900, Loss: 0.00115\n",
      "Epoch 1000, Loss: 0.00095\n",
      "Final Accuracy: 100.00%\n"
     ]
    }
   ],
   "source": [
    "W1, b1, W2, b2, W3, b3 = train_adam(X, y)\n",
    "_, _, _, _, _, predictions = forward(X, W1, b1, W2, b2, W3, b3)\n",
    "predictions_binary = (predictions > 0.5).astype(int)\n",
    "accuracy = np.mean(predictions_binary == y)\n",
    "print(f\"Final Accuracy: {accuracy*100:.2f}%\")"
   ]
  },
  {
   "cell_type": "code",
   "execution_count": 174,
   "id": "e4392411-5083-4c72-a1b3-a888442fd489",
   "metadata": {},
   "outputs": [
    {
     "data": {
      "text/plain": [
       "array([[0, 0, 0, 0, 0, 0, 0, 0, 1, 0],\n",
       "       [0, 0, 0, 0, 0, 0, 0, 0, 0, 1]])"
      ]
     },
     "execution_count": 174,
     "metadata": {},
     "output_type": "execute_result"
    }
   ],
   "source": []
  },
  {
   "cell_type": "code",
   "execution_count": null,
   "id": "e6340121-4ae9-46be-acd9-59b9a7341d5b",
   "metadata": {},
   "outputs": [],
   "source": []
  }
 ],
 "metadata": {
  "kernelspec": {
   "display_name": "Python 3 (ipykernel)",
   "language": "python",
   "name": "python3"
  },
  "language_info": {
   "codemirror_mode": {
    "name": "ipython",
    "version": 3
   },
   "file_extension": ".py",
   "mimetype": "text/x-python",
   "name": "python",
   "nbconvert_exporter": "python",
   "pygments_lexer": "ipython3",
   "version": "3.10.16"
  }
 },
 "nbformat": 4,
 "nbformat_minor": 5
}
